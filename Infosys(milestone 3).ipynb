{
 "cells": [
  {
   "cell_type": "code",
   "execution_count": 19,
   "id": "c4e4f7d1-c19d-4e72-adec-4d2e0ae8a64f",
   "metadata": {},
   "outputs": [],
   "source": [
    "import pandas as pd\n",
    "import numpy as np\n",
    "from sklearn.preprocessing import LabelEncoder\n",
    "from sklearn.model_selection import train_test_split\n",
    "from sklearn.metrics import accuracy_score, classification_report\n",
    "from sklearn.linear_model import LogisticRegression\n",
    "from sklearn.neighbors import KNeighborsClassifier\n",
    "from sklearn.tree import DecisionTreeClassifier\n",
    "from sklearn.ensemble import RandomForestClassifier, GradientBoostingClassifier, AdaBoostClassifier\n",
    "from sklearn.svm import SVC\n"
   ]
  },
  {
   "cell_type": "code",
   "execution_count": 20,
   "id": "91fb5dbb-d33b-491f-9cd0-06309a63a735",
   "metadata": {},
   "outputs": [
    {
     "data": {
      "text/html": [
       "<div>\n",
       "<style scoped>\n",
       "    .dataframe tbody tr th:only-of-type {\n",
       "        vertical-align: middle;\n",
       "    }\n",
       "\n",
       "    .dataframe tbody tr th {\n",
       "        vertical-align: top;\n",
       "    }\n",
       "\n",
       "    .dataframe thead th {\n",
       "        text-align: right;\n",
       "    }\n",
       "</style>\n",
       "<table border=\"1\" class=\"dataframe\">\n",
       "  <thead>\n",
       "    <tr style=\"text-align: right;\">\n",
       "      <th></th>\n",
       "      <th>Resume_ID</th>\n",
       "      <th>Name</th>\n",
       "      <th>Skills</th>\n",
       "      <th>Experience (Years)</th>\n",
       "      <th>Education</th>\n",
       "      <th>Certifications</th>\n",
       "      <th>Job Role</th>\n",
       "      <th>Recruiter Decision</th>\n",
       "      <th>Salary Expectation ($)</th>\n",
       "      <th>Projects Count</th>\n",
       "      <th>AI Score (0-100)</th>\n",
       "    </tr>\n",
       "  </thead>\n",
       "  <tbody>\n",
       "    <tr>\n",
       "      <th>0</th>\n",
       "      <td>1</td>\n",
       "      <td>Ashley Ali</td>\n",
       "      <td>TensorFlow, NLP, Pytorch</td>\n",
       "      <td>1.640557</td>\n",
       "      <td>B.Sc</td>\n",
       "      <td>NaN</td>\n",
       "      <td>0</td>\n",
       "      <td>0</td>\n",
       "      <td>1.080895</td>\n",
       "      <td>0.887684</td>\n",
       "      <td>0.765286</td>\n",
       "    </tr>\n",
       "    <tr>\n",
       "      <th>1</th>\n",
       "      <td>2</td>\n",
       "      <td>Wesley Roman</td>\n",
       "      <td>Deep Learning, Machine Learning, Python, SQL</td>\n",
       "      <td>1.640557</td>\n",
       "      <td>MBA</td>\n",
       "      <td>Google ML</td>\n",
       "      <td>2</td>\n",
       "      <td>0</td>\n",
       "      <td>1.432808</td>\n",
       "      <td>-1.279664</td>\n",
       "      <td>0.765286</td>\n",
       "    </tr>\n",
       "    <tr>\n",
       "      <th>2</th>\n",
       "      <td>3</td>\n",
       "      <td>Corey Sanchez</td>\n",
       "      <td>Ethical Hacking, Cybersecurity, Linux</td>\n",
       "      <td>-1.252275</td>\n",
       "      <td>MBA</td>\n",
       "      <td>Deep Learning Specialization</td>\n",
       "      <td>1</td>\n",
       "      <td>0</td>\n",
       "      <td>-0.357187</td>\n",
       "      <td>0.578063</td>\n",
       "      <td>-0.665155</td>\n",
       "    </tr>\n",
       "    <tr>\n",
       "      <th>3</th>\n",
       "      <td>4</td>\n",
       "      <td>Elizabeth Carney</td>\n",
       "      <td>Python, Pytorch, TensorFlow</td>\n",
       "      <td>0.676280</td>\n",
       "      <td>B.Tech</td>\n",
       "      <td>AWS Certified</td>\n",
       "      <td>0</td>\n",
       "      <td>0</td>\n",
       "      <td>-1.438840</td>\n",
       "      <td>-1.589285</td>\n",
       "      <td>0.526879</td>\n",
       "    </tr>\n",
       "    <tr>\n",
       "      <th>4</th>\n",
       "      <td>5</td>\n",
       "      <td>Julie Hill</td>\n",
       "      <td>SQL, React, Java</td>\n",
       "      <td>-0.287997</td>\n",
       "      <td>PhD</td>\n",
       "      <td>NaN</td>\n",
       "      <td>3</td>\n",
       "      <td>0</td>\n",
       "      <td>0.323242</td>\n",
       "      <td>1.197305</td>\n",
       "      <td>0.765286</td>\n",
       "    </tr>\n",
       "  </tbody>\n",
       "</table>\n",
       "</div>"
      ],
      "text/plain": [
       "   Resume_ID              Name                                        Skills  \\\n",
       "0          1        Ashley Ali                      TensorFlow, NLP, Pytorch   \n",
       "1          2      Wesley Roman  Deep Learning, Machine Learning, Python, SQL   \n",
       "2          3     Corey Sanchez         Ethical Hacking, Cybersecurity, Linux   \n",
       "3          4  Elizabeth Carney                   Python, Pytorch, TensorFlow   \n",
       "4          5        Julie Hill                              SQL, React, Java   \n",
       "\n",
       "   Experience (Years) Education                Certifications  Job Role  \\\n",
       "0            1.640557      B.Sc                           NaN         0   \n",
       "1            1.640557       MBA                     Google ML         2   \n",
       "2           -1.252275       MBA  Deep Learning Specialization         1   \n",
       "3            0.676280    B.Tech                 AWS Certified         0   \n",
       "4           -0.287997       PhD                           NaN         3   \n",
       "\n",
       "   Recruiter Decision  Salary Expectation ($)  Projects Count  \\\n",
       "0                   0                1.080895        0.887684   \n",
       "1                   0                1.432808       -1.279664   \n",
       "2                   0               -0.357187        0.578063   \n",
       "3                   0               -1.438840       -1.589285   \n",
       "4                   0                0.323242        1.197305   \n",
       "\n",
       "   AI Score (0-100)  \n",
       "0          0.765286  \n",
       "1          0.765286  \n",
       "2         -0.665155  \n",
       "3          0.526879  \n",
       "4          0.765286  "
      ]
     },
     "execution_count": 20,
     "metadata": {},
     "output_type": "execute_result"
    }
   ],
   "source": [
    "df = pd.read_csv(r\"C:\\Users\\deepu\\Downloads\\AI_Resume_Screening_After_Preprocessing.csv\")\n",
    "df.head()\n"
   ]
  },
  {
   "cell_type": "code",
   "execution_count": 23,
   "id": "a76a4b19-495c-4550-8acd-4c0ddcf095d8",
   "metadata": {},
   "outputs": [],
   "source": [
    "y = df['Job Role']  \n",
    "X = df.drop(['Job Role', 'Resume_ID', 'Name'], axis=1)\n",
    "\n",
    "for col in X.select_dtypes(include='object').columns:\n",
    "    le = LabelEncoder()\n",
    "    X[col] = le.fit_transform(X[col])\n"
   ]
  },
  {
   "cell_type": "code",
   "execution_count": 24,
   "id": "f05ab736-5421-452b-b8d3-11698861e9e6",
   "metadata": {},
   "outputs": [],
   "source": [
    "X_train, X_test, y_train, y_test = train_test_split(X, y, test_size=0.3, random_state=42, stratify=y)\n"
   ]
  },
  {
   "cell_type": "code",
   "execution_count": 25,
   "id": "bc67a57f-2419-4aef-b74f-07ca69312e28",
   "metadata": {},
   "outputs": [],
   "source": [
    "scaler = StandardScaler()\n",
    "X_train = scaler.fit_transform(X_train)\n",
    "X_test = scaler.transform(X_test)\n"
   ]
  },
  {
   "cell_type": "code",
   "execution_count": 26,
   "id": "9f9ef27c-8375-4003-9467-b1d142cfc65d",
   "metadata": {},
   "outputs": [
    {
     "name": "stdout",
     "output_type": "stream",
     "text": [
      "Random Forest Accuracy: 0.7892976588628763\n",
      "              precision    recall  f1-score   support\n",
      "\n",
      "           0       0.80      0.87      0.83        77\n",
      "           1       0.80      0.92      0.86        77\n",
      "           2       0.73      0.58      0.65        76\n",
      "           3       0.82      0.78      0.80        69\n",
      "\n",
      "    accuracy                           0.79       299\n",
      "   macro avg       0.79      0.79      0.78       299\n",
      "weighted avg       0.79      0.79      0.78       299\n",
      "\n"
     ]
    }
   ],
   "source": [
    "rf = RandomForestClassifier(random_state=42)\n",
    "rf.fit(X_train, y_train)\n",
    "y_pred_rf = rf.predict(X_test)\n",
    "print(\"Random Forest Accuracy:\", accuracy_score(y_test, y_pred_rf))\n",
    "print(classification_report(y_test, y_pred_rf))\n"
   ]
  },
  {
   "cell_type": "code",
   "execution_count": 27,
   "id": "e1f0f577-de04-4bb1-8b80-bfc47ff4ac9b",
   "metadata": {},
   "outputs": [
    {
     "name": "stdout",
     "output_type": "stream",
     "text": [
      "Decision Tree Accuracy: 0.9966555183946488\n",
      "              precision    recall  f1-score   support\n",
      "\n",
      "           0       0.99      1.00      0.99        77\n",
      "           1       1.00      1.00      1.00        77\n",
      "           2       1.00      1.00      1.00        76\n",
      "           3       1.00      0.99      0.99        69\n",
      "\n",
      "    accuracy                           1.00       299\n",
      "   macro avg       1.00      1.00      1.00       299\n",
      "weighted avg       1.00      1.00      1.00       299\n",
      "\n"
     ]
    }
   ],
   "source": [
    "dt = DecisionTreeClassifier(random_state=42)\n",
    "dt.fit(X_train, y_train)\n",
    "y_pred_dt = dt.predict(X_test)\n",
    "print(\"Decision Tree Accuracy:\", accuracy_score(y_test, y_pred_dt))\n",
    "print(classification_report(y_test, y_pred_dt))\n"
   ]
  },
  {
   "cell_type": "code",
   "execution_count": 28,
   "id": "0ac3f130-d212-4329-a90e-60f64e5d66e7",
   "metadata": {},
   "outputs": [
    {
     "name": "stdout",
     "output_type": "stream",
     "text": [
      "KNN Accuracy: 0.4013377926421405\n",
      "              precision    recall  f1-score   support\n",
      "\n",
      "           0       0.40      0.58      0.47        77\n",
      "           1       0.48      0.62      0.54        77\n",
      "           2       0.29      0.18      0.22        76\n",
      "           3       0.36      0.19      0.25        69\n",
      "\n",
      "    accuracy                           0.40       299\n",
      "   macro avg       0.38      0.40      0.37       299\n",
      "weighted avg       0.38      0.40      0.37       299\n",
      "\n"
     ]
    }
   ],
   "source": [
    "knn = KNeighborsClassifier()\n",
    "knn.fit(X_train, y_train)\n",
    "y_pred_knn = knn.predict(X_test)\n",
    "print(\"KNN Accuracy:\", accuracy_score(y_test, y_pred_knn))\n",
    "print(classification_report(y_test, y_pred_knn))\n"
   ]
  },
  {
   "cell_type": "code",
   "execution_count": 29,
   "id": "b58395b3-60c8-4a1c-9dbf-b3fb630a4380",
   "metadata": {},
   "outputs": [
    {
     "name": "stdout",
     "output_type": "stream",
     "text": [
      "SVM Accuracy: 0.44816053511705684\n",
      "              precision    recall  f1-score   support\n",
      "\n",
      "           0       0.45      0.81      0.58        77\n",
      "           1       0.50      0.74      0.60        77\n",
      "           2       0.27      0.16      0.20        76\n",
      "           3       0.75      0.04      0.08        69\n",
      "\n",
      "    accuracy                           0.45       299\n",
      "   macro avg       0.49      0.44      0.36       299\n",
      "weighted avg       0.49      0.45      0.37       299\n",
      "\n"
     ]
    }
   ],
   "source": [
    "svm = SVC()\n",
    "svm.fit(X_train, y_train)\n",
    "y_pred_svm = svm.predict(X_test)\n",
    "print(\"SVM Accuracy:\", accuracy_score(y_test, y_pred_svm))\n",
    "print(classification_report(y_test, y_pred_svm))\n"
   ]
  },
  {
   "cell_type": "code",
   "execution_count": 30,
   "id": "18b5528b-94d2-445f-917c-3694c9585c4d",
   "metadata": {},
   "outputs": [
    {
     "name": "stdout",
     "output_type": "stream",
     "text": [
      "Logistic Regression Accuracy: 0.391304347826087\n",
      "              precision    recall  f1-score   support\n",
      "\n",
      "           0       0.44      0.70      0.54        77\n",
      "           1       0.47      0.62      0.54        77\n",
      "           2       0.25      0.17      0.20        76\n",
      "           3       0.08      0.03      0.04        69\n",
      "\n",
      "    accuracy                           0.39       299\n",
      "   macro avg       0.31      0.38      0.33       299\n",
      "weighted avg       0.32      0.39      0.34       299\n",
      "\n"
     ]
    }
   ],
   "source": [
    "lr = LogisticRegression(max_iter=1000)\n",
    "lr.fit(X_train, y_train)\n",
    "y_pred_lr = lr.predict(X_test)\n",
    "print(\"Logistic Regression Accuracy:\", accuracy_score(y_test, y_pred_lr))\n",
    "print(classification_report(y_test, y_pred_lr))\n"
   ]
  },
  {
   "cell_type": "code",
   "execution_count": 31,
   "id": "18556268-7844-4a3d-ac54-7adf0bcf138d",
   "metadata": {},
   "outputs": [
    {
     "name": "stdout",
     "output_type": "stream",
     "text": [
      "Gradient Boosting Accuracy: 0.9966555183946488\n",
      "              precision    recall  f1-score   support\n",
      "\n",
      "           0       0.99      1.00      0.99        77\n",
      "           1       1.00      1.00      1.00        77\n",
      "           2       1.00      1.00      1.00        76\n",
      "           3       1.00      0.99      0.99        69\n",
      "\n",
      "    accuracy                           1.00       299\n",
      "   macro avg       1.00      1.00      1.00       299\n",
      "weighted avg       1.00      1.00      1.00       299\n",
      "\n"
     ]
    }
   ],
   "source": [
    "gb = GradientBoostingClassifier(random_state=42)\n",
    "gb.fit(X_train, y_train)\n",
    "y_pred_gb = gb.predict(X_test)\n",
    "print(\"Gradient Boosting Accuracy:\", accuracy_score(y_test, y_pred_gb))\n",
    "print(classification_report(y_test, y_pred_gb))\n"
   ]
  },
  {
   "cell_type": "code",
   "execution_count": 32,
   "id": "4467a6cb-70be-46d0-975f-7c49fac9d0cc",
   "metadata": {},
   "outputs": [
    {
     "name": "stdout",
     "output_type": "stream",
     "text": [
      "AdaBoost Accuracy: 0.6020066889632107\n",
      "              precision    recall  f1-score   support\n",
      "\n",
      "           0       0.51      0.86      0.64        77\n",
      "           1       0.58      1.00      0.73        77\n",
      "           2       1.00      0.24      0.38        76\n",
      "           3       1.00      0.28      0.43        69\n",
      "\n",
      "    accuracy                           0.60       299\n",
      "   macro avg       0.77      0.59      0.55       299\n",
      "weighted avg       0.77      0.60      0.55       299\n",
      "\n"
     ]
    }
   ],
   "source": [
    "ab = AdaBoostClassifier(random_state=42)\n",
    "ab.fit(X_train, y_train)\n",
    "y_pred_ab = ab.predict(X_test)\n",
    "print(\"AdaBoost Accuracy:\", accuracy_score(y_test, y_pred_ab))\n",
    "print(classification_report(y_test, y_pred_ab))\n"
   ]
  },
  {
   "cell_type": "code",
   "execution_count": 33,
   "id": "0584d19d-e2c5-43f6-a74f-160c9bbe0c7b",
   "metadata": {},
   "outputs": [
    {
     "data": {
      "text/html": [
       "<div>\n",
       "<style scoped>\n",
       "    .dataframe tbody tr th:only-of-type {\n",
       "        vertical-align: middle;\n",
       "    }\n",
       "\n",
       "    .dataframe tbody tr th {\n",
       "        vertical-align: top;\n",
       "    }\n",
       "\n",
       "    .dataframe thead th {\n",
       "        text-align: right;\n",
       "    }\n",
       "</style>\n",
       "<table border=\"1\" class=\"dataframe\">\n",
       "  <thead>\n",
       "    <tr style=\"text-align: right;\">\n",
       "      <th></th>\n",
       "      <th>Model</th>\n",
       "      <th>Accuracy</th>\n",
       "    </tr>\n",
       "  </thead>\n",
       "  <tbody>\n",
       "    <tr>\n",
       "      <th>1</th>\n",
       "      <td>Decision Tree</td>\n",
       "      <td>0.996656</td>\n",
       "    </tr>\n",
       "    <tr>\n",
       "      <th>5</th>\n",
       "      <td>Gradient Boosting</td>\n",
       "      <td>0.996656</td>\n",
       "    </tr>\n",
       "    <tr>\n",
       "      <th>0</th>\n",
       "      <td>Random Forest</td>\n",
       "      <td>0.789298</td>\n",
       "    </tr>\n",
       "    <tr>\n",
       "      <th>6</th>\n",
       "      <td>AdaBoost</td>\n",
       "      <td>0.602007</td>\n",
       "    </tr>\n",
       "    <tr>\n",
       "      <th>3</th>\n",
       "      <td>SVM</td>\n",
       "      <td>0.448161</td>\n",
       "    </tr>\n",
       "    <tr>\n",
       "      <th>2</th>\n",
       "      <td>KNN</td>\n",
       "      <td>0.401338</td>\n",
       "    </tr>\n",
       "    <tr>\n",
       "      <th>4</th>\n",
       "      <td>Logistic Regression</td>\n",
       "      <td>0.391304</td>\n",
       "    </tr>\n",
       "  </tbody>\n",
       "</table>\n",
       "</div>"
      ],
      "text/plain": [
       "                 Model  Accuracy\n",
       "1        Decision Tree  0.996656\n",
       "5    Gradient Boosting  0.996656\n",
       "0        Random Forest  0.789298\n",
       "6             AdaBoost  0.602007\n",
       "3                  SVM  0.448161\n",
       "2                  KNN  0.401338\n",
       "4  Logistic Regression  0.391304"
      ]
     },
     "execution_count": 33,
     "metadata": {},
     "output_type": "execute_result"
    }
   ],
   "source": [
    "models = ['Random Forest','Decision Tree','KNN','SVM','Logistic Regression','Gradient Boosting','AdaBoost']\n",
    "accuracies = [\n",
    "    accuracy_score(y_test, y_pred_rf),\n",
    "    accuracy_score(y_test, y_pred_dt),\n",
    "    accuracy_score(y_test, y_pred_knn),\n",
    "    accuracy_score(y_test, y_pred_svm),\n",
    "    accuracy_score(y_test, y_pred_lr),\n",
    "    accuracy_score(y_test, y_pred_gb),\n",
    "    accuracy_score(y_test, y_pred_ab)\n",
    "]\n",
    "\n",
    "comparison = pd.DataFrame({'Model':models,'Accuracy':accuracies})\n",
    "comparison.sort_values(by='Accuracy', ascending=False)\n"
   ]
  },
  {
   "cell_type": "code",
   "execution_count": 35,
   "id": "a4d43c8a-33ab-4abf-a9c3-004290ba471f",
   "metadata": {},
   "outputs": [
    {
     "data": {
      "image/png": "[encoded data removed]",
      "text/plain": [
       "<Figure size 640x480 with 1 Axes>"
      ]
     },
     "metadata": {},
     "output_type": "display_data"
    }
   ],
   "source": [
    "import pandas as pd\n",
    "import seaborn as sns\n",
    "import matplotlib.pyplot as plt\n",
    "\n",
    "models = ['Decision Tree', 'Gradient Boosting', 'Random Forest', 'AdaBoost', 'SVM', 'KNN', 'Logistic Regression']\n",
    "accuracy = [0.9967, 0.9967, 0.7893, 0.6020, 0.4482, 0.4013, 0.3913]\n",
    "\n",
    "accuracy_df = pd.DataFrame({'Model': models, 'Accuracy': accuracy})\n",
    "\n",
    "sns.barplot(x='Accuracy', y='Model', data=accuracy_df, palette='viridis')\n",
    "plt.title(\"Comparison of ML Model Accuracy\")\n",
    "plt.xlim(0, 1)\n",
    "plt.xlabel(\"Accuracy\")\n",
    "plt.ylabel(\"Model\")\n",
    "plt.show()\n"
   ]
  },
  {
   "cell_type": "code",
   "execution_count": 36,
   "id": "0c03c24c-5ff6-42d5-8e4d-244a817159b4",
   "metadata": {},
   "outputs": [
    {
     "data": {
      "image/png": "[encoded data removed]",
      "text/plain": [
       "<Figure size 800x500 with 1 Axes>"
      ]
     },
     "metadata": {},
     "output_type": "display_data"
    }
   ],
   "source": [
    "accuracy_df.sort_values('Accuracy', inplace=True)\n",
    "\n",
    "plt.figure(figsize=(8,5))\n",
    "plt.barh(accuracy_df['Model'], accuracy_df['Accuracy'], color='skyblue')\n",
    "plt.title(\"ML Model Accuracy Comparison\")\n",
    "plt.xlabel(\"Accuracy\")\n",
    "plt.ylabel(\"Model\")\n",
    "plt.xlim(0, 1)\n",
    "plt.show()\n"
   ]
  },
  {
   "cell_type": "code",
   "execution_count": 37,
   "id": "6a9a750d-621e-4721-b0e2-06ad4398859d",
   "metadata": {},
   "outputs": [
    {
     "data": {
      "image/png": "[encoded data removed]",
      "text/plain": [
       "<Figure size 600x600 with 1 Axes>"
      ]
     },
     "metadata": {},
     "output_type": "display_data"
    }
   ],
   "source": [
    "plt.figure(figsize=(6,6))\n",
    "plt.pie(accuracy_df['Accuracy'], labels=accuracy_df['Model'], autopct='%1.1f%%', startangle=140)\n",
    "plt.title(\"Proportion of Accuracy by Model\")\n",
    "plt.show()\n"
   ]
  },
  {
   "cell_type": "code",
   "execution_count": 21,
   "id": "eb6449d6-aa7e-4989-87ad-2e146cd82802",
   "metadata": {},
   "outputs": [
    {
     "name": "stdout",
     "output_type": "stream",
     "text": [
      "Tuned Gradient Boosting Cross-Validation Accuracy for each fold: [1.         0.99497487 1.         1.         1.        ]\n",
      "Mean Tuned Accuracy: 0.9989949748743718\n"
     ]
    }
   ],
   "source": [
    "from sklearn.ensemble import GradientBoostingClassifier\n",
    "from sklearn.model_selection import cross_val_score\n",
    "\n",
    "tuned_gb = GradientBoostingClassifier(\n",
    "    n_estimators=150,\n",
    "    learning_rate=0.05,\n",
    "    max_depth=3,\n",
    "    random_state=42\n",
    ")\n",
    "\n",
    "scores_tuned = cross_val_score(tuned_gb, X, y, cv=5, scoring='accuracy')\n",
    "print(\"Tuned Gradient Boosting Cross-Validation Accuracy for each fold:\", scores_tuned)\n",
    "print(\"Mean Tuned Accuracy:\", scores_tuned.mean())\n"
   ]
  },
  {
   "cell_type": "code",
   "execution_count": null,
   "id": "9b23da9f-850d-47ee-9bc4-be2545aacafb",
   "metadata": {},
   "outputs": [],
   "source": []
  }
 ],
 "metadata": {
  "kernelspec": {
   "display_name": "Python 3 (ipykernel)",
   "language": "python",
   "name": "python3"
  },
  "language_info": {
   "codemirror_mode": {
    "name": "ipython",
    "version": 3
   },
   "file_extension": ".py",
   "mimetype": "text/x-python",
   "name": "python",
   "nbconvert_exporter": "python",
   "pygments_lexer": "ipython3",
   "version": "3.10.0"
  }
 },
 "nbformat": 4,
 "nbformat_minor": 5
}
