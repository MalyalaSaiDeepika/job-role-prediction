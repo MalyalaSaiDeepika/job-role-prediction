{
 "cells": [
  {
   "cell_type": "code",
   "execution_count": 7,
   "id": "a8baa9c2-3f54-46ab-b11b-40bfffc57433",
   "metadata": {},
   "outputs": [],
   "source": [
    "# Basic Python libraries\n",
    "import pandas as pd\n",
    "import numpy as np\n",
    "\n",
    "# For visualization (optional in Milestone 1)\n",
    "import matplotlib.pyplot as plt\n",
    "import seaborn as sns\n"
   ]
  },
  {
   "cell_type": "code",
   "execution_count": 11,
   "id": "5a66bc10-87f9-40f4-bcb0-dbaecd517b8b",
   "metadata": {},
   "outputs": [
    {
     "data": {
      "text/html": [
       "<div>\n",
       "<style scoped>\n",
       "    .dataframe tbody tr th:only-of-type {\n",
       "        vertical-align: middle;\n",
       "    }\n",
       "\n",
       "    .dataframe tbody tr th {\n",
       "        vertical-align: top;\n",
       "    }\n",
       "\n",
       "    .dataframe thead th {\n",
       "        text-align: right;\n",
       "    }\n",
       "</style>\n",
       "<table border=\"1\" class=\"dataframe\">\n",
       "  <thead>\n",
       "    <tr style=\"text-align: right;\">\n",
       "      <th></th>\n",
       "      <th>Resume_ID</th>\n",
       "      <th>Name</th>\n",
       "      <th>Skills</th>\n",
       "      <th>Experience (Years)</th>\n",
       "      <th>Education</th>\n",
       "      <th>Certifications</th>\n",
       "      <th>Job Role</th>\n",
       "      <th>Recruiter Decision</th>\n",
       "      <th>Salary Expectation ($)</th>\n",
       "      <th>Projects Count</th>\n",
       "      <th>AI Score (0-100)</th>\n",
       "    </tr>\n",
       "  </thead>\n",
       "  <tbody>\n",
       "    <tr>\n",
       "      <th>0</th>\n",
       "      <td>1</td>\n",
       "      <td>Ashley Ali</td>\n",
       "      <td>TensorFlow, NLP, Pytorch</td>\n",
       "      <td>10</td>\n",
       "      <td>B.Sc</td>\n",
       "      <td>NaN</td>\n",
       "      <td>AI Researcher</td>\n",
       "      <td>Hire</td>\n",
       "      <td>104895</td>\n",
       "      <td>8</td>\n",
       "      <td>100</td>\n",
       "    </tr>\n",
       "    <tr>\n",
       "      <th>1</th>\n",
       "      <td>2</td>\n",
       "      <td>Wesley Roman</td>\n",
       "      <td>Deep Learning, Machine Learning, Python, SQL</td>\n",
       "      <td>10</td>\n",
       "      <td>MBA</td>\n",
       "      <td>Google ML</td>\n",
       "      <td>Data Scientist</td>\n",
       "      <td>Hire</td>\n",
       "      <td>113002</td>\n",
       "      <td>1</td>\n",
       "      <td>100</td>\n",
       "    </tr>\n",
       "    <tr>\n",
       "      <th>2</th>\n",
       "      <td>3</td>\n",
       "      <td>Corey Sanchez</td>\n",
       "      <td>Ethical Hacking, Cybersecurity, Linux</td>\n",
       "      <td>1</td>\n",
       "      <td>MBA</td>\n",
       "      <td>Deep Learning Specialization</td>\n",
       "      <td>Cybersecurity Analyst</td>\n",
       "      <td>Hire</td>\n",
       "      <td>71766</td>\n",
       "      <td>7</td>\n",
       "      <td>70</td>\n",
       "    </tr>\n",
       "    <tr>\n",
       "      <th>3</th>\n",
       "      <td>4</td>\n",
       "      <td>Elizabeth Carney</td>\n",
       "      <td>Python, Pytorch, TensorFlow</td>\n",
       "      <td>7</td>\n",
       "      <td>B.Tech</td>\n",
       "      <td>AWS Certified</td>\n",
       "      <td>AI Researcher</td>\n",
       "      <td>Hire</td>\n",
       "      <td>46848</td>\n",
       "      <td>0</td>\n",
       "      <td>95</td>\n",
       "    </tr>\n",
       "    <tr>\n",
       "      <th>4</th>\n",
       "      <td>5</td>\n",
       "      <td>Julie Hill</td>\n",
       "      <td>SQL, React, Java</td>\n",
       "      <td>4</td>\n",
       "      <td>PhD</td>\n",
       "      <td>NaN</td>\n",
       "      <td>Software Engineer</td>\n",
       "      <td>Hire</td>\n",
       "      <td>87441</td>\n",
       "      <td>9</td>\n",
       "      <td>100</td>\n",
       "    </tr>\n",
       "  </tbody>\n",
       "</table>\n",
       "</div>"
      ],
      "text/plain": [
       "   Resume_ID              Name                                        Skills  \\\n",
       "0          1        Ashley Ali                      TensorFlow, NLP, Pytorch   \n",
       "1          2      Wesley Roman  Deep Learning, Machine Learning, Python, SQL   \n",
       "2          3     Corey Sanchez         Ethical Hacking, Cybersecurity, Linux   \n",
       "3          4  Elizabeth Carney                   Python, Pytorch, TensorFlow   \n",
       "4          5        Julie Hill                              SQL, React, Java   \n",
       "\n",
       "   Experience (Years) Education                Certifications  \\\n",
       "0                  10      B.Sc                           NaN   \n",
       "1                  10       MBA                     Google ML   \n",
       "2                   1       MBA  Deep Learning Specialization   \n",
       "3                   7    B.Tech                 AWS Certified   \n",
       "4                   4       PhD                           NaN   \n",
       "\n",
       "                Job Role Recruiter Decision  Salary Expectation ($)  \\\n",
       "0          AI Researcher               Hire                  104895   \n",
       "1         Data Scientist               Hire                  113002   \n",
       "2  Cybersecurity Analyst               Hire                   71766   \n",
       "3          AI Researcher               Hire                   46848   \n",
       "4      Software Engineer               Hire                   87441   \n",
       "\n",
       "   Projects Count  AI Score (0-100)  \n",
       "0               8               100  \n",
       "1               1               100  \n",
       "2               7                70  \n",
       "3               0                95  \n",
       "4               9               100  "
      ]
     },
     "execution_count": 11,
     "metadata": {},
     "output_type": "execute_result"
    }
   ],
   "source": [
    "# Replace 'path_to_dataset.csv' with the actual CSV file path\n",
    "df = pd.read_csv(r\"C:\\Users\\deepu\\Downloads\\archive (1).zip\")\n",
    "\n",
    "\n",
    "# Display first 5 rows\n",
    "df.head()\n"
   ]
  },
  {
   "cell_type": "code",
   "execution_count": 12,
   "id": "ff7453f0-f364-4a0b-9d41-22ffe4df20b0",
   "metadata": {},
   "outputs": [
    {
     "name": "stdout",
     "output_type": "stream",
     "text": [
      "Dataset Shape: (1000, 11)\n",
      "<class 'pandas.core.frame.DataFrame'>\n",
      "RangeIndex: 1000 entries, 0 to 999\n",
      "Data columns (total 11 columns):\n",
      " #   Column                  Non-Null Count  Dtype \n",
      "---  ------                  --------------  ----- \n",
      " 0   Resume_ID               1000 non-null   int64 \n",
      " 1   Name                    1000 non-null   object\n",
      " 2   Skills                  1000 non-null   object\n",
      " 3   Experience (Years)      1000 non-null   int64 \n",
      " 4   Education               1000 non-null   object\n",
      " 5   Certifications          726 non-null    object\n",
      " 6   Job Role                1000 non-null   object\n",
      " 7   Recruiter Decision      1000 non-null   object\n",
      " 8   Salary Expectation ($)  1000 non-null   int64 \n",
      " 9   Projects Count          1000 non-null   int64 \n",
      " 10  AI Score (0-100)        1000 non-null   int64 \n",
      "dtypes: int64(5), object(6)\n",
      "memory usage: 86.1+ KB\n"
     ]
    },
    {
     "data": {
      "text/plain": [
       "Resume_ID                   0\n",
       "Name                        0\n",
       "Skills                      0\n",
       "Experience (Years)          0\n",
       "Education                   0\n",
       "Certifications            274\n",
       "Job Role                    0\n",
       "Recruiter Decision          0\n",
       "Salary Expectation ($)      0\n",
       "Projects Count              0\n",
       "AI Score (0-100)            0\n",
       "dtype: int64"
      ]
     },
     "execution_count": 12,
     "metadata": {},
     "output_type": "execute_result"
    }
   ],
   "source": [
    "# Check the shape of dataset (rows, columns)\n",
    "print(\"Dataset Shape:\", df.shape)\n",
    "\n",
    "# Basic info about columns and data types\n",
    "df.info()\n",
    "\n",
    "# Check for null values\n",
    "df.isnull().sum()\n"
   ]
  },
  {
   "cell_type": "code",
   "execution_count": 13,
   "id": "d990f963-3b33-43a1-bcba-c7dc118a2a13",
   "metadata": {},
   "outputs": [
    {
     "data": {
      "text/html": [
       "<div>\n",
       "<style scoped>\n",
       "    .dataframe tbody tr th:only-of-type {\n",
       "        vertical-align: middle;\n",
       "    }\n",
       "\n",
       "    .dataframe tbody tr th {\n",
       "        vertical-align: top;\n",
       "    }\n",
       "\n",
       "    .dataframe thead th {\n",
       "        text-align: right;\n",
       "    }\n",
       "</style>\n",
       "<table border=\"1\" class=\"dataframe\">\n",
       "  <thead>\n",
       "    <tr style=\"text-align: right;\">\n",
       "      <th></th>\n",
       "      <th>Resume_ID</th>\n",
       "      <th>Experience (Years)</th>\n",
       "      <th>Salary Expectation ($)</th>\n",
       "      <th>Projects Count</th>\n",
       "      <th>AI Score (0-100)</th>\n",
       "    </tr>\n",
       "  </thead>\n",
       "  <tbody>\n",
       "    <tr>\n",
       "      <th>count</th>\n",
       "      <td>1000.000000</td>\n",
       "      <td>1000.000000</td>\n",
       "      <td>1000.000000</td>\n",
       "      <td>1000.00000</td>\n",
       "      <td>1000.000000</td>\n",
       "    </tr>\n",
       "    <tr>\n",
       "      <th>mean</th>\n",
       "      <td>500.500000</td>\n",
       "      <td>4.896000</td>\n",
       "      <td>79994.486000</td>\n",
       "      <td>5.13300</td>\n",
       "      <td>83.950000</td>\n",
       "    </tr>\n",
       "    <tr>\n",
       "      <th>std</th>\n",
       "      <td>288.819436</td>\n",
       "      <td>3.112695</td>\n",
       "      <td>23048.472549</td>\n",
       "      <td>3.23137</td>\n",
       "      <td>20.983036</td>\n",
       "    </tr>\n",
       "    <tr>\n",
       "      <th>min</th>\n",
       "      <td>1.000000</td>\n",
       "      <td>0.000000</td>\n",
       "      <td>40085.000000</td>\n",
       "      <td>0.00000</td>\n",
       "      <td>15.000000</td>\n",
       "    </tr>\n",
       "    <tr>\n",
       "      <th>25%</th>\n",
       "      <td>250.750000</td>\n",
       "      <td>2.000000</td>\n",
       "      <td>60415.750000</td>\n",
       "      <td>2.00000</td>\n",
       "      <td>70.000000</td>\n",
       "    </tr>\n",
       "    <tr>\n",
       "      <th>50%</th>\n",
       "      <td>500.500000</td>\n",
       "      <td>5.000000</td>\n",
       "      <td>79834.500000</td>\n",
       "      <td>5.00000</td>\n",
       "      <td>100.000000</td>\n",
       "    </tr>\n",
       "    <tr>\n",
       "      <th>75%</th>\n",
       "      <td>750.250000</td>\n",
       "      <td>8.000000</td>\n",
       "      <td>99583.250000</td>\n",
       "      <td>8.00000</td>\n",
       "      <td>100.000000</td>\n",
       "    </tr>\n",
       "    <tr>\n",
       "      <th>max</th>\n",
       "      <td>1000.000000</td>\n",
       "      <td>10.000000</td>\n",
       "      <td>119901.000000</td>\n",
       "      <td>10.00000</td>\n",
       "      <td>100.000000</td>\n",
       "    </tr>\n",
       "  </tbody>\n",
       "</table>\n",
       "</div>"
      ],
      "text/plain": [
       "         Resume_ID  Experience (Years)  Salary Expectation ($)  \\\n",
       "count  1000.000000         1000.000000             1000.000000   \n",
       "mean    500.500000            4.896000            79994.486000   \n",
       "std     288.819436            3.112695            23048.472549   \n",
       "min       1.000000            0.000000            40085.000000   \n",
       "25%     250.750000            2.000000            60415.750000   \n",
       "50%     500.500000            5.000000            79834.500000   \n",
       "75%     750.250000            8.000000            99583.250000   \n",
       "max    1000.000000           10.000000           119901.000000   \n",
       "\n",
       "       Projects Count  AI Score (0-100)  \n",
       "count      1000.00000       1000.000000  \n",
       "mean          5.13300         83.950000  \n",
       "std           3.23137         20.983036  \n",
       "min           0.00000         15.000000  \n",
       "25%           2.00000         70.000000  \n",
       "50%           5.00000        100.000000  \n",
       "75%           8.00000        100.000000  \n",
       "max          10.00000        100.000000  "
      ]
     },
     "execution_count": 13,
     "metadata": {},
     "output_type": "execute_result"
    }
   ],
   "source": [
    "# Quick descriptive statistics for numeric columns\n",
    "df.describe()\n"
   ]
  },
  {
   "cell_type": "code",
   "execution_count": 15,
   "id": "79c8c5fc-5852-4f66-ae20-fc1d833f7a41",
   "metadata": {},
   "outputs": [
    {
     "name": "stdout",
     "output_type": "stream",
     "text": [
      "Index(['Resume_ID', 'Name', 'Skills', 'Experience (Years)', 'Education',\n",
      "       'Certifications', 'Job Role', 'Recruiter Decision',\n",
      "       'Salary Expectation ($)', 'Projects Count', 'AI Score (0-100)'],\n",
      "      dtype='object')\n"
     ]
    }
   ],
   "source": [
    "# List all column names to see the exact spelling\n",
    "print(df.columns)\n"
   ]
  },
  {
   "cell_type": "code",
   "execution_count": 16,
   "id": "13222679-1307-460a-bc4f-9fc064e0e440",
   "metadata": {},
   "outputs": [
    {
     "name": "stdout",
     "output_type": "stream",
     "text": [
      "['AI Researcher' 'Data Scientist' 'Cybersecurity Analyst'\n",
      " 'Software Engineer']\n"
     ]
    }
   ],
   "source": [
    "# Replace 'Job Role' with the exact column name from df.columns\n",
    "print(df['Job Role'].unique())\n"
   ]
  },
  {
   "cell_type": "code",
   "execution_count": 17,
   "id": "5bb8ba9f-2eca-4609-af55-fa22125a95f7",
   "metadata": {},
   "outputs": [
    {
     "name": "stdout",
     "output_type": "stream",
     "text": [
      "['AI Researcher' 'Data Scientist' 'Cybersecurity Analyst'\n",
      " 'Software Engineer']\n"
     ]
    }
   ],
   "source": [
    "# Clean column names\n",
    "df.columns = df.columns.str.strip().str.replace(' ', '_').str.lower()\n",
    "\n",
    "# Now access like this\n",
    "print(df['job_role'].unique())\n"
   ]
  },
  {
   "cell_type": "code",
   "execution_count": 18,
   "id": "91327670-b90a-4dc9-af41-c42d234f5f14",
   "metadata": {},
   "outputs": [
    {
     "name": "stdout",
     "output_type": "stream",
     "text": [
      "Missing values per column:\n",
      " resume_id                   0\n",
      "name                        0\n",
      "skills                      0\n",
      "experience_(years)          0\n",
      "education                   0\n",
      "certifications            274\n",
      "job_role                    0\n",
      "recruiter_decision          0\n",
      "salary_expectation_($)      0\n",
      "projects_count              0\n",
      "ai_score_(0-100)            0\n",
      "dtype: int64\n"
     ]
    }
   ],
   "source": [
    "# Count missing values in each column\n",
    "missing_values = df.isnull().sum()\n",
    "print(\"Missing values per column:\\n\", missing_values)\n"
   ]
  },
  {
   "cell_type": "code",
   "execution_count": 19,
   "id": "a7d18497-65e6-4cc4-9410-118b638e058c",
   "metadata": {},
   "outputs": [
    {
     "name": "stdout",
     "output_type": "stream",
     "text": [
      "Missing Education entries: 0\n",
      "Missing Job Role entries: 0\n"
     ]
    }
   ],
   "source": [
    "# Check missing values specifically for education and job_role\n",
    "print(\"Missing Education entries:\", df['education'].isnull().sum())\n",
    "print(\"Missing Job Role entries:\", df['job_role'].isnull().sum())\n"
   ]
  },
  {
   "cell_type": "code",
   "execution_count": 20,
   "id": "61e5ba25-409b-43b3-9eea-345ea0f3bbbc",
   "metadata": {},
   "outputs": [
    {
     "name": "stdout",
     "output_type": "stream",
     "text": [
      "Unique Educational Backgrounds:\n",
      "['B.Sc' 'MBA' 'B.Tech' 'PhD' 'M.Tech']\n",
      "\n",
      "Unique Job Roles:\n",
      "['AI Researcher' 'Data Scientist' 'Cybersecurity Analyst'\n",
      " 'Software Engineer']\n"
     ]
    }
   ],
   "source": [
    "# Unique values in education\n",
    "print(\"Unique Educational Backgrounds:\")\n",
    "print(df['education'].unique())\n",
    "\n",
    "# Unique values in job_role\n",
    "print(\"\\nUnique Job Roles:\")\n",
    "print(df['job_role'].unique())\n"
   ]
  },
  {
   "cell_type": "code",
   "execution_count": 21,
   "id": "9286a222-1786-4258-906f-16d5f812e5c3",
   "metadata": {},
   "outputs": [
    {
     "name": "stdout",
     "output_type": "stream",
     "text": [
      "Number of candidates per education:\n",
      " education\n",
      "B.Sc      205\n",
      "MBA       202\n",
      "B.Tech    200\n",
      "M.Tech    198\n",
      "PhD       195\n",
      "Name: count, dtype: int64\n",
      "\n",
      "Number of candidates per job role:\n",
      " job_role\n",
      "AI Researcher            257\n",
      "Data Scientist           255\n",
      "Cybersecurity Analyst    255\n",
      "Software Engineer        233\n",
      "Name: count, dtype: int64\n"
     ]
    }
   ],
   "source": [
    "# Count of candidates per education type\n",
    "edu_counts = df['education'].value_counts()\n",
    "print(\"Number of candidates per education:\\n\", edu_counts)\n",
    "\n",
    "# Count of candidates per job role\n",
    "job_counts = df['job_role'].value_counts()\n",
    "print(\"\\nNumber of candidates per job role:\\n\", job_counts)\n"
   ]
  },
  {
   "cell_type": "code",
   "execution_count": 22,
   "id": "54c24f18-fd86-460d-857c-7cb741629c31",
   "metadata": {},
   "outputs": [
    {
     "data": {
      "image/png": "[encoded data removed]",
      "text/plain": [
       "<Figure size 1000x500 with 1 Axes>"
      ]
     },
     "metadata": {},
     "output_type": "display_data"
    },
    {
     "data": {
      "image/png": "[encoded data removed]",
      "text/plain": [
       "<Figure size 1000x500 with 1 Axes>"
      ]
     },
     "metadata": {},
     "output_type": "display_data"
    }
   ],
   "source": [
    "# Bar plot for education\n",
    "plt.figure(figsize=(10,5))\n",
    "sns.countplot(data=df, x='education', order=df['education'].value_counts().index)\n",
    "plt.xticks(rotation=45)\n",
    "plt.title(\"Distribution of Educational Backgrounds\")\n",
    "plt.show()\n",
    "\n",
    "# Bar plot for job roles\n",
    "plt.figure(figsize=(10,5))\n",
    "sns.countplot(data=df, x='job_role', order=df['job_role'].value_counts().index)\n",
    "plt.xticks(rotation=45)\n",
    "plt.title(\"Distribution of Job Roles\")\n",
    "plt.show()\n"
   ]
  },
  {
   "cell_type": "code",
   "execution_count": 23,
   "id": "d963f413-8bfc-4ed1-ad74-f90f0602b884",
   "metadata": {},
   "outputs": [],
   "source": [
    "# Save a version of dataset with cleaned column names for future Milestone 2\n",
    "df.to_csv('milestone1_cleaned_columns.csv', index=False)\n"
   ]
  },
  {
   "cell_type": "code",
   "execution_count": null,
   "id": "d1d4e369-ac98-4c88-964a-225b0014ac51",
   "metadata": {},
   "outputs": [],
   "source": []
  }
 ],
 "metadata": {
  "kernelspec": {
   "display_name": "Python 3 (ipykernel)",
   "language": "python",
   "name": "python3"
  },
  "language_info": {
   "codemirror_mode": {
    "name": "ipython",
    "version": 3
   },
   "file_extension": ".py",
   "mimetype": "text/x-python",
   "name": "python",
   "nbconvert_exporter": "python",
   "pygments_lexer": "ipython3",
   "version": "3.10.0"
  }
 },
 "nbformat": 4,
 "nbformat_minor": 5
}
