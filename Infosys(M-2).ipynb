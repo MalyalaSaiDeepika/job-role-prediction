{
 "cells": [
  {
   "cell_type": "code",
   "execution_count": 2,
   "id": "36b7e5ec-04de-4645-b77a-308eccc09220",
   "metadata": {},
   "outputs": [
    {
     "name": "stderr",
     "output_type": "stream",
     "text": [
      "WARNING: Ignoring invalid distribution -umpy (c:\\users\\deepu\\appdata\\local\\programs\\python\\python310\\lib\\site-packages)\n",
      "WARNING: Ignoring invalid distribution -umpy (c:\\users\\deepu\\appdata\\local\\programs\\python\\python310\\lib\\site-packages)\n",
      "WARNING: Ignoring invalid distribution -umpy (c:\\users\\deepu\\appdata\\local\\programs\\python\\python310\\lib\\site-packages)\n",
      "\n",
      "[notice] A new release of pip is available: 25.1.1 -> 25.2\n",
      "[notice] To update, run: python.exe -m pip install --upgrade pip\n"
     ]
    },
    {
     "name": "stdout",
     "output_type": "stream",
     "text": [
      "All libraries imported successfully!\n"
     ]
    }
   ],
   "source": [
    "# Install imbalanced-learn if not already installed\n",
    "!pip install imbalanced-learn --quiet\n",
    "\n",
    "# Import necessary libraries\n",
    "import pandas as pd\n",
    "import numpy as np\n",
    "\n",
    "from sklearn.preprocessing import OneHotEncoder\n",
    "from sklearn.feature_extraction.text import TfidfVectorizer\n",
    "from sklearn.compose import ColumnTransformer\n",
    "from sklearn.pipeline import Pipeline\n",
    "from sklearn.decomposition import TruncatedSVD\n",
    "from sklearn.model_selection import train_test_split\n",
    "\n",
    "# Import imblearn for handling class imbalance\n",
    "from imblearn.over_sampling import SMOTE\n",
    "from imblearn.pipeline import Pipeline as ImbPipeline\n",
    "\n",
    "# For saving pipeline objects\n",
    "import joblib\n",
    "\n",
    "print(\"All libraries imported successfully!\")\n"
   ]
  },
  {
   "cell_type": "code",
   "execution_count": 5,
   "id": "3ede9354-0106-4a4b-9c63-6c2517f60e54",
   "metadata": {},
   "outputs": [
    {
     "name": "stdout",
     "output_type": "stream",
     "text": [
      "Extracted files: ['AI_Resume_Screening.csv']\n"
     ]
    },
    {
     "data": {
      "text/html": [
       "<div>\n",
       "<style scoped>\n",
       "    .dataframe tbody tr th:only-of-type {\n",
       "        vertical-align: middle;\n",
       "    }\n",
       "\n",
       "    .dataframe tbody tr th {\n",
       "        vertical-align: top;\n",
       "    }\n",
       "\n",
       "    .dataframe thead th {\n",
       "        text-align: right;\n",
       "    }\n",
       "</style>\n",
       "<table border=\"1\" class=\"dataframe\">\n",
       "  <thead>\n",
       "    <tr style=\"text-align: right;\">\n",
       "      <th></th>\n",
       "      <th>Resume_ID</th>\n",
       "      <th>Name</th>\n",
       "      <th>Skills</th>\n",
       "      <th>Experience (Years)</th>\n",
       "      <th>Education</th>\n",
       "      <th>Certifications</th>\n",
       "      <th>Job Role</th>\n",
       "      <th>Recruiter Decision</th>\n",
       "      <th>Salary Expectation ($)</th>\n",
       "      <th>Projects Count</th>\n",
       "      <th>AI Score (0-100)</th>\n",
       "    </tr>\n",
       "  </thead>\n",
       "  <tbody>\n",
       "    <tr>\n",
       "      <th>0</th>\n",
       "      <td>1</td>\n",
       "      <td>Ashley Ali</td>\n",
       "      <td>TensorFlow, NLP, Pytorch</td>\n",
       "      <td>10</td>\n",
       "      <td>B.Sc</td>\n",
       "      <td>NaN</td>\n",
       "      <td>AI Researcher</td>\n",
       "      <td>Hire</td>\n",
       "      <td>104895</td>\n",
       "      <td>8</td>\n",
       "      <td>100</td>\n",
       "    </tr>\n",
       "    <tr>\n",
       "      <th>1</th>\n",
       "      <td>2</td>\n",
       "      <td>Wesley Roman</td>\n",
       "      <td>Deep Learning, Machine Learning, Python, SQL</td>\n",
       "      <td>10</td>\n",
       "      <td>MBA</td>\n",
       "      <td>Google ML</td>\n",
       "      <td>Data Scientist</td>\n",
       "      <td>Hire</td>\n",
       "      <td>113002</td>\n",
       "      <td>1</td>\n",
       "      <td>100</td>\n",
       "    </tr>\n",
       "    <tr>\n",
       "      <th>2</th>\n",
       "      <td>3</td>\n",
       "      <td>Corey Sanchez</td>\n",
       "      <td>Ethical Hacking, Cybersecurity, Linux</td>\n",
       "      <td>1</td>\n",
       "      <td>MBA</td>\n",
       "      <td>Deep Learning Specialization</td>\n",
       "      <td>Cybersecurity Analyst</td>\n",
       "      <td>Hire</td>\n",
       "      <td>71766</td>\n",
       "      <td>7</td>\n",
       "      <td>70</td>\n",
       "    </tr>\n",
       "    <tr>\n",
       "      <th>3</th>\n",
       "      <td>4</td>\n",
       "      <td>Elizabeth Carney</td>\n",
       "      <td>Python, Pytorch, TensorFlow</td>\n",
       "      <td>7</td>\n",
       "      <td>B.Tech</td>\n",
       "      <td>AWS Certified</td>\n",
       "      <td>AI Researcher</td>\n",
       "      <td>Hire</td>\n",
       "      <td>46848</td>\n",
       "      <td>0</td>\n",
       "      <td>95</td>\n",
       "    </tr>\n",
       "    <tr>\n",
       "      <th>4</th>\n",
       "      <td>5</td>\n",
       "      <td>Julie Hill</td>\n",
       "      <td>SQL, React, Java</td>\n",
       "      <td>4</td>\n",
       "      <td>PhD</td>\n",
       "      <td>NaN</td>\n",
       "      <td>Software Engineer</td>\n",
       "      <td>Hire</td>\n",
       "      <td>87441</td>\n",
       "      <td>9</td>\n",
       "      <td>100</td>\n",
       "    </tr>\n",
       "  </tbody>\n",
       "</table>\n",
       "</div>"
      ],
      "text/plain": [
       "   Resume_ID              Name                                        Skills  \\\n",
       "0          1        Ashley Ali                      TensorFlow, NLP, Pytorch   \n",
       "1          2      Wesley Roman  Deep Learning, Machine Learning, Python, SQL   \n",
       "2          3     Corey Sanchez         Ethical Hacking, Cybersecurity, Linux   \n",
       "3          4  Elizabeth Carney                   Python, Pytorch, TensorFlow   \n",
       "4          5        Julie Hill                              SQL, React, Java   \n",
       "\n",
       "   Experience (Years) Education                Certifications  \\\n",
       "0                  10      B.Sc                           NaN   \n",
       "1                  10       MBA                     Google ML   \n",
       "2                   1       MBA  Deep Learning Specialization   \n",
       "3                   7    B.Tech                 AWS Certified   \n",
       "4                   4       PhD                           NaN   \n",
       "\n",
       "                Job Role Recruiter Decision  Salary Expectation ($)  \\\n",
       "0          AI Researcher               Hire                  104895   \n",
       "1         Data Scientist               Hire                  113002   \n",
       "2  Cybersecurity Analyst               Hire                   71766   \n",
       "3          AI Researcher               Hire                   46848   \n",
       "4      Software Engineer               Hire                   87441   \n",
       "\n",
       "   Projects Count  AI Score (0-100)  \n",
       "0               8               100  \n",
       "1               1               100  \n",
       "2               7                70  \n",
       "3               0                95  \n",
       "4               9               100  "
      ]
     },
     "execution_count": 5,
     "metadata": {},
     "output_type": "execute_result"
    }
   ],
   "source": [
    "# Import necessary libraries\n",
    "import pandas as pd\n",
    "import zipfile\n",
    "import os\n",
    "\n",
    "# Define paths\n",
    "zip_path = r\"C:\\Users\\deepu\\OneDrive\\Desktop\\Infosys Internship\\archive (1).zip\"\n",
    "extract_path = r\"C:\\Users\\deepu\\OneDrive\\Desktop\\Infosys Internship\\extracted\"\n",
    "\n",
    "# Create extraction folder if it doesn't exist\n",
    "os.makedirs(extract_path, exist_ok=True)\n",
    "\n",
    "# Extract all files from the ZIP\n",
    "with zipfile.ZipFile(zip_path, 'r') as zip_ref:\n",
    "    zip_ref.extractall(extract_path)\n",
    "\n",
    "# List files in the extraction folder to find the CSV\n",
    "extracted_files = os.listdir(extract_path)\n",
    "print(\"Extracted files:\", extracted_files)\n",
    "\n",
    "# Load the CSV (assuming there's only one CSV in the ZIP)\n",
    "csv_file = [f for f in extracted_files if f.endswith('.csv')][0]\n",
    "csv_path = os.path.join(extract_path, csv_file)\n",
    "\n",
    "df = pd.read_csv(csv_path)\n",
    "\n",
    "# Display first 5 rows\n",
    "df.head()\n"
   ]
  },
  {
   "cell_type": "code",
   "execution_count": 7,
   "id": "54f985b8-01cc-43b0-aa61-688c14848829",
   "metadata": {},
   "outputs": [
    {
     "name": "stdout",
     "output_type": "stream",
     "text": [
      "Missing values per column:\n",
      "Skills                0\n",
      "Education             0\n",
      "Certifications        0\n",
      "Experience (Years)    0\n",
      "dtype: int64\n"
     ]
    },
    {
     "data": {
      "text/html": [
       "<div>\n",
       "<style scoped>\n",
       "    .dataframe tbody tr th:only-of-type {\n",
       "        vertical-align: middle;\n",
       "    }\n",
       "\n",
       "    .dataframe tbody tr th {\n",
       "        vertical-align: top;\n",
       "    }\n",
       "\n",
       "    .dataframe thead th {\n",
       "        text-align: right;\n",
       "    }\n",
       "</style>\n",
       "<table border=\"1\" class=\"dataframe\">\n",
       "  <thead>\n",
       "    <tr style=\"text-align: right;\">\n",
       "      <th></th>\n",
       "      <th>Skills</th>\n",
       "      <th>Education</th>\n",
       "      <th>Certifications</th>\n",
       "      <th>Experience (Years)</th>\n",
       "    </tr>\n",
       "  </thead>\n",
       "  <tbody>\n",
       "    <tr>\n",
       "      <th>0</th>\n",
       "      <td>TensorFlow, NLP, Pytorch</td>\n",
       "      <td>B.Sc</td>\n",
       "      <td>None</td>\n",
       "      <td>10</td>\n",
       "    </tr>\n",
       "    <tr>\n",
       "      <th>1</th>\n",
       "      <td>Deep Learning, Machine Learning, Python, SQL</td>\n",
       "      <td>MBA</td>\n",
       "      <td>Google ML</td>\n",
       "      <td>10</td>\n",
       "    </tr>\n",
       "    <tr>\n",
       "      <th>2</th>\n",
       "      <td>Ethical Hacking, Cybersecurity, Linux</td>\n",
       "      <td>MBA</td>\n",
       "      <td>Deep Learning Specialization</td>\n",
       "      <td>1</td>\n",
       "    </tr>\n",
       "    <tr>\n",
       "      <th>3</th>\n",
       "      <td>Python, Pytorch, TensorFlow</td>\n",
       "      <td>B.Tech</td>\n",
       "      <td>AWS Certified</td>\n",
       "      <td>7</td>\n",
       "    </tr>\n",
       "    <tr>\n",
       "      <th>4</th>\n",
       "      <td>SQL, React, Java</td>\n",
       "      <td>PhD</td>\n",
       "      <td>None</td>\n",
       "      <td>4</td>\n",
       "    </tr>\n",
       "  </tbody>\n",
       "</table>\n",
       "</div>"
      ],
      "text/plain": [
       "                                         Skills Education  \\\n",
       "0                      TensorFlow, NLP, Pytorch      B.Sc   \n",
       "1  Deep Learning, Machine Learning, Python, SQL       MBA   \n",
       "2         Ethical Hacking, Cybersecurity, Linux       MBA   \n",
       "3                   Python, Pytorch, TensorFlow    B.Tech   \n",
       "4                              SQL, React, Java       PhD   \n",
       "\n",
       "                 Certifications  Experience (Years)  \n",
       "0                          None                  10  \n",
       "1                     Google ML                  10  \n",
       "2  Deep Learning Specialization                   1  \n",
       "3                 AWS Certified                   7  \n",
       "4                          None                   4  "
      ]
     },
     "execution_count": 7,
     "metadata": {},
     "output_type": "execute_result"
    }
   ],
   "source": [
    "# Select features and target\n",
    "features = ['Skills', 'Education', 'Certifications', 'Experience (Years)']\n",
    "target = 'Job Role'\n",
    "\n",
    "X = df[features].copy()\n",
    "y = df[target].copy()\n",
    "\n",
    "# Handle missing values\n",
    "X['Certifications'] = X['Certifications'].fillna('None')  # Replace NaN with 'None'\n",
    "\n",
    "# Optional: confirm no missing values remain\n",
    "print(\"Missing values per column:\")\n",
    "print(X.isnull().sum())\n",
    "\n",
    "# Display first 5 rows\n",
    "X.head()\n"
   ]
  },
  {
   "cell_type": "code",
   "execution_count": 9,
   "id": "6e569b21-66e9-4b81-8dfb-cc7166066c5e",
   "metadata": {},
   "outputs": [
    {
     "name": "stdout",
     "output_type": "stream",
     "text": [
      "Preprocessing pipeline built successfully!\n"
     ]
    }
   ],
   "source": [
    "# Define categorical and text columns\n",
    "categorical_cols = ['Education', 'Certifications']\n",
    "text_cols = ['Skills']\n",
    "numeric_cols = ['Experience (Years)']  # will be passed through\n",
    "\n",
    "# ColumnTransformer for encoding and TF-IDF\n",
    "preprocessor = ColumnTransformer(\n",
    "    transformers=[\n",
    "        ('cat', OneHotEncoder(handle_unknown='ignore'), categorical_cols),\n",
    "        ('tfidf', TfidfVectorizer(max_features=100), 'Skills')\n",
    "    ],\n",
    "    remainder='passthrough'  # keep numeric columns as-is\n",
    ")\n",
    "\n",
    "# SMOTE for handling class imbalance\n",
    "smote = SMOTE(random_state=42)\n",
    "\n",
    "# Build full pipeline\n",
    "pipeline = ImbPipeline(steps=[\n",
    "    ('preprocessor', preprocessor),\n",
    "    ('smote', smote)\n",
    "])\n",
    "\n",
    "print(\"Preprocessing pipeline built successfully!\")\n"
   ]
  },
  {
   "cell_type": "code",
   "execution_count": 10,
   "id": "2b40bc03-c23b-4907-9aef-fc8e6aee420e",
   "metadata": {},
   "outputs": [
    {
     "name": "stdout",
     "output_type": "stream",
     "text": [
      "Training shape: (800, 4)\n",
      "Testing shape: (200, 4)\n"
     ]
    }
   ],
   "source": [
    "# Split dataset into training and testing sets\n",
    "X_train, X_test, y_train, y_test = train_test_split(\n",
    "    X, y, test_size=0.2, random_state=42\n",
    ")\n",
    "\n",
    "print(\"Training shape:\", X_train.shape)\n",
    "print(\"Testing shape:\", X_test.shape)\n"
   ]
  },
  {
   "cell_type": "code",
   "execution_count": 11,
   "id": "9026342a-643f-40db-bef2-8439d34af045",
   "metadata": {},
   "outputs": [
    {
     "name": "stdout",
     "output_type": "stream",
     "text": [
      "Transformed training shape: (840, 25)\n",
      "Transformed testing shape: (200, 25)\n"
     ]
    }
   ],
   "source": [
    "# Fit pipeline on training data and apply SMOTE\n",
    "X_train_resampled, y_train_resampled = pipeline.fit_resample(X_train, y_train)\n",
    "\n",
    "# Transform test set (do NOT apply SMOTE to test)\n",
    "X_test_transformed = pipeline.named_steps['preprocessor'].transform(X_test)\n",
    "\n",
    "print(\"Transformed training shape:\", X_train_resampled.shape)\n",
    "print(\"Transformed testing shape:\", X_test_transformed.shape)\n"
   ]
  },
  {
   "cell_type": "code",
   "execution_count": 12,
   "id": "7209ae01-c06c-4c02-8b78-1f5860a7979d",
   "metadata": {},
   "outputs": [
    {
     "name": "stdout",
     "output_type": "stream",
     "text": [
      "Milestone 2 pipeline saved successfully!\n"
     ]
    }
   ],
   "source": [
    "# Save the preprocessing pipeline for future use\n",
    "joblib.dump(pipeline, 'milestone2_pipeline.pkl')\n",
    "print(\"Milestone 2 pipeline saved successfully!\")\n"
   ]
  },
  {
   "cell_type": "code",
   "execution_count": null,
   "id": "b81acd8e-38ec-47dd-8a2a-e579e33e5ff8",
   "metadata": {},
   "outputs": [],
   "source": []
  }
 ],
 "metadata": {
  "kernelspec": {
   "display_name": "Python 3 (ipykernel)",
   "language": "python",
   "name": "python3"
  },
  "language_info": {
   "codemirror_mode": {
    "name": "ipython",
    "version": 3
   },
   "file_extension": ".py",
   "mimetype": "text/x-python",
   "name": "python",
   "nbconvert_exporter": "python",
   "pygments_lexer": "ipython3",
   "version": "3.10.0"
  }
 },
 "nbformat": 4,
 "nbformat_minor": 5
}
